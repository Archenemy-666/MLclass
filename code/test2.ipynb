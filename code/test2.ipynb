{
 "cells": [
  {
   "cell_type": "code",
   "execution_count": 1,
   "metadata": {},
   "outputs": [],
   "source": [
    "from sklearn.datasets import fetch_openml\n",
    "from sklearn import tree\n",
    "import numpy as np\n",
    "import matplotlib as mpl\n",
    "import matplotlib.pyplot as plt\n",
    "from sklearn import metrics\n",
    "from sklearn import model_selection\n"
   ]
  },
  {
   "cell_type": "code",
   "execution_count": 2,
   "metadata": {},
   "outputs": [],
   "source": [
    "mytree = tree.DecisionTreeClassifier(criterion=\"entropy\")\n",
    "mol_data = fetch_openml(name = 'qsar-biodeg')"
   ]
  },
  {
   "cell_type": "code",
   "execution_count": 46,
   "metadata": {},
   "outputs": [
    {
     "data": {
      "text/plain": [
       "0.8423732294850307"
      ]
     },
     "execution_count": 46,
     "metadata": {},
     "output_type": "execute_result"
    }
   ],
   "source": [
    "parameters = [{\"min_samples_leaf\":[2,4,6,8,10,32]}]\n",
    "dtc = tree.DecisionTreeClassifier()\n",
    "tuned_dtc = model_selection.GridSearchCV(dtc, parameters, scoring=\"roc_auc\", cv=10)\n",
    "cv = model_selection.cross_validate(tuned_dtc, mol_data.data, mol_data.target, scoring=\"roc_auc\", cv=10,return_train_score=True)\n",
    "cv[\"test_score\"].mean()\n"
   ]
  },
  {
   "cell_type": "code",
   "execution_count": 42,
   "metadata": {},
   "outputs": [
    {
     "data": {
      "text/plain": [
       "{'min_samples_leaf': 10}"
      ]
     },
     "execution_count": 42,
     "metadata": {},
     "output_type": "execute_result"
    }
   ],
   "source": [
    "tuned_dtc.fit(mol_data.data, mol_data.target)\n",
    "tuned_dtc.best_params_"
   ]
  },
  {
   "cell_type": "code",
   "execution_count": 45,
   "metadata": {},
   "outputs": [
    {
     "name": "stdout",
     "output_type": "stream",
     "text": [
      "0.796136567834681 0.7780710835058662\n",
      "[0.83962264 0.78301887 0.76415094 0.89622642 0.77358491 0.77142857\n",
      " 0.68571429 0.83809524 0.81904762 0.79047619] [0.83962264 0.78301887 0.76415094 0.89622642 0.77358491 0.77142857\n",
      " 0.68571429 0.83809524 0.81904762 0.79047619]\n"
     ]
    }
   ],
   "source": [
    "dtc2 = tree.DecisionTreeClassifier()\n",
    "cv2 = model_selection.cross_validate(dtc2,mol_data.data,mol_data.target,scoring=[\"accuracy\",\"roc_auc\"],cv=10)\n",
    "accuracy_mean = cv2[\"test_accuracy\"].mean()\n",
    "test_roc_auc_mean = cv2[\"test_roc_auc\"].mean()\n",
    "print(accuracy_mean,test_roc_auc_mean)\n",
    "print(cv2[\"test_accuracy\"],cv2[\"test_accuracy\"])"
   ]
  }
 ],
 "metadata": {
  "kernelspec": {
   "display_name": "Python 3",
   "language": "python",
   "name": "python3"
  },
  "language_info": {
   "codemirror_mode": {
    "name": "ipython",
    "version": 3
   },
   "file_extension": ".py",
   "mimetype": "text/x-python",
   "name": "python",
   "nbconvert_exporter": "python",
   "pygments_lexer": "ipython3",
   "version": "3.9.13"
  },
  "orig_nbformat": 4,
  "vscode": {
   "interpreter": {
    "hash": "38cca0c38332a56087b24af0bc80247f4fced29cb4f7f437d91dc159adec9c4e"
   }
  }
 },
 "nbformat": 4,
 "nbformat_minor": 2
}
