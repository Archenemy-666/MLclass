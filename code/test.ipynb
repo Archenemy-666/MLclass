{
 "cells": [
  {
   "cell_type": "code",
   "execution_count": 41,
   "metadata": {},
   "outputs": [],
   "source": [
    "from sklearn.datasets import fetch_openml\n",
    "from sklearn import tree\n",
    "import numpy as np\n",
    "import matplotlib as mpl\n",
    "import matplotlib.pyplot as plt\n",
    "from sklearn import metrics\n",
    "from sklearn import model_selection"
   ]
  },
  {
   "cell_type": "code",
   "execution_count": 92,
   "metadata": {},
   "outputs": [],
   "source": [
    "mytree = tree.DecisionTreeClassifier(criterion=\"entropy\")\n",
    "mol_data = fetch_openml(name = 'qsar-biodeg')\n"
   ]
  },
  {
   "cell_type": "code",
   "execution_count": 93,
   "metadata": {},
   "outputs": [
    {
     "name": "stdout",
     "output_type": "stream",
     "text": [
      "|--- feature_35 <= 3.68\n",
      "|   |--- feature_33 <= 2.50\n",
      "|   |   |--- feature_0 <= 4.98\n",
      "|   |   |   |--- feature_9 <= 1.50\n",
      "|   |   |   |   |--- feature_38 <= 8.24\n",
      "|   |   |   |   |   |--- feature_0 <= 4.80\n",
      "|   |   |   |   |   |   |--- feature_8 <= 0.50\n",
      "|   |   |   |   |   |   |   |--- feature_7 <= 41.45\n",
      "|   |   |   |   |   |   |   |   |--- feature_30 <= 1.60\n",
      "|   |   |   |   |   |   |   |   |   |--- feature_16 <= 0.97\n",
      "|   |   |   |   |   |   |   |   |   |   |--- class: 1\n",
      "|   |   |   |   |   |   |   |   |   |--- feature_16 >  0.97\n",
      "|   |   |   |   |   |   |   |   |   |   |--- feature_36 <= 2.48\n",
      "|   |   |   |   |   |   |   |   |   |   |   |--- truncated branch of depth 5\n",
      "|   |   |   |   |   |   |   |   |   |   |--- feature_36 >  2.48\n",
      "|   |   |   |   |   |   |   |   |   |   |   |--- truncated branch of depth 2\n",
      "|   |   |   |   |   |   |   |   |--- feature_30 >  1.60\n",
      "|   |   |   |   |   |   |   |   |   |--- class: 1\n",
      "|   |   |   |   |   |   |   |--- feature_7 >  41.45\n",
      "|   |   |   |   |   |   |   |   |--- feature_21 <= 1.30\n",
      "|   |   |   |   |   |   |   |   |   |--- class: 2\n",
      "|   |   |   |   |   |   |   |   |--- feature_21 >  1.30\n",
      "|   |   |   |   |   |   |   |   |   |--- feature_17 <= 1.11\n",
      "|   |   |   |   |   |   |   |   |   |   |--- class: 2\n",
      "|   |   |   |   |   |   |   |   |   |--- feature_17 >  1.11\n",
      "|   |   |   |   |   |   |   |   |   |   |--- class: 1\n",
      "|   |   |   |   |   |   |--- feature_8 >  0.50\n",
      "|   |   |   |   |   |   |   |--- feature_12 <= 2.56\n",
      "|   |   |   |   |   |   |   |   |--- class: 2\n",
      "|   |   |   |   |   |   |   |--- feature_12 >  2.56\n",
      "|   |   |   |   |   |   |   |   |--- feature_33 <= 1.50\n",
      "|   |   |   |   |   |   |   |   |   |--- feature_36 <= 2.05\n",
      "|   |   |   |   |   |   |   |   |   |   |--- feature_35 <= 3.00\n",
      "|   |   |   |   |   |   |   |   |   |   |   |--- class: 2\n",
      "|   |   |   |   |   |   |   |   |   |   |--- feature_35 >  3.00\n",
      "|   |   |   |   |   |   |   |   |   |   |   |--- truncated branch of depth 5\n",
      "|   |   |   |   |   |   |   |   |   |--- feature_36 >  2.05\n",
      "|   |   |   |   |   |   |   |   |   |   |--- feature_1 <= 2.61\n",
      "|   |   |   |   |   |   |   |   |   |   |   |--- truncated branch of depth 2\n",
      "|   |   |   |   |   |   |   |   |   |   |--- feature_1 >  2.61\n",
      "|   |   |   |   |   |   |   |   |   |   |   |--- class: 2\n",
      "|   |   |   |   |   |   |   |   |--- feature_33 >  1.50\n",
      "|   |   |   |   |   |   |   |   |   |--- feature_30 <= 2.48\n",
      "|   |   |   |   |   |   |   |   |   |   |--- class: 1\n",
      "|   |   |   |   |   |   |   |   |   |--- feature_30 >  2.48\n",
      "|   |   |   |   |   |   |   |   |   |   |--- class: 2\n",
      "|   |   |   |   |   |--- feature_0 >  4.80\n",
      "|   |   |   |   |   |   |--- class: 1\n",
      "|   |   |   |   |--- feature_38 >  8.24\n",
      "|   |   |   |   |   |--- feature_16 <= 0.97\n",
      "|   |   |   |   |   |   |--- feature_21 <= 1.20\n",
      "|   |   |   |   |   |   |   |--- class: 1\n",
      "|   |   |   |   |   |   |--- feature_21 >  1.20\n",
      "|   |   |   |   |   |   |   |--- class: 2\n",
      "|   |   |   |   |   |--- feature_16 >  0.97\n",
      "|   |   |   |   |   |   |--- class: 1\n",
      "|   |   |   |--- feature_9 >  1.50\n",
      "|   |   |   |   |--- feature_13 <= 0.79\n",
      "|   |   |   |   |   |--- class: 1\n",
      "|   |   |   |   |--- feature_13 >  0.79\n",
      "|   |   |   |   |   |--- feature_17 <= 1.18\n",
      "|   |   |   |   |   |   |--- feature_36 <= 2.76\n",
      "|   |   |   |   |   |   |   |--- feature_29 <= 4.99\n",
      "|   |   |   |   |   |   |   |   |--- feature_14 <= 9.81\n",
      "|   |   |   |   |   |   |   |   |   |--- feature_15 <= 0.50\n",
      "|   |   |   |   |   |   |   |   |   |   |--- feature_21 <= 1.10\n",
      "|   |   |   |   |   |   |   |   |   |   |   |--- class: 2\n",
      "|   |   |   |   |   |   |   |   |   |   |--- feature_21 >  1.10\n",
      "|   |   |   |   |   |   |   |   |   |   |   |--- truncated branch of depth 2\n",
      "|   |   |   |   |   |   |   |   |   |--- feature_15 >  0.50\n",
      "|   |   |   |   |   |   |   |   |   |   |--- class: 2\n",
      "|   |   |   |   |   |   |   |   |--- feature_14 >  9.81\n",
      "|   |   |   |   |   |   |   |   |   |--- class: 1\n",
      "|   |   |   |   |   |   |   |--- feature_29 >  4.99\n",
      "|   |   |   |   |   |   |   |   |--- feature_31 <= 0.50\n",
      "|   |   |   |   |   |   |   |   |   |--- feature_38 <= 7.76\n",
      "|   |   |   |   |   |   |   |   |   |   |--- feature_1 <= 3.17\n",
      "|   |   |   |   |   |   |   |   |   |   |   |--- class: 1\n",
      "|   |   |   |   |   |   |   |   |   |   |--- feature_1 >  3.17\n",
      "|   |   |   |   |   |   |   |   |   |   |   |--- class: 2\n",
      "|   |   |   |   |   |   |   |   |   |--- feature_38 >  7.76\n",
      "|   |   |   |   |   |   |   |   |   |   |--- class: 2\n",
      "|   |   |   |   |   |   |   |   |--- feature_31 >  0.50\n",
      "|   |   |   |   |   |   |   |   |   |--- feature_0 <= 4.80\n",
      "|   |   |   |   |   |   |   |   |   |   |--- class: 1\n",
      "|   |   |   |   |   |   |   |   |   |--- feature_0 >  4.80\n",
      "|   |   |   |   |   |   |   |   |   |   |--- class: 2\n",
      "|   |   |   |   |   |   |--- feature_36 >  2.76\n",
      "|   |   |   |   |   |   |   |--- feature_4 <= 0.50\n",
      "|   |   |   |   |   |   |   |   |--- class: 2\n",
      "|   |   |   |   |   |   |   |--- feature_4 >  0.50\n",
      "|   |   |   |   |   |   |   |   |--- feature_29 <= 9.99\n",
      "|   |   |   |   |   |   |   |   |   |--- class: 1\n",
      "|   |   |   |   |   |   |   |   |--- feature_29 >  9.99\n",
      "|   |   |   |   |   |   |   |   |   |--- class: 2\n",
      "|   |   |   |   |   |--- feature_17 >  1.18\n",
      "|   |   |   |   |   |   |--- class: 1\n",
      "|   |   |--- feature_0 >  4.98\n",
      "|   |   |   |--- feature_14 <= 10.66\n",
      "|   |   |   |   |--- feature_13 <= 1.84\n",
      "|   |   |   |   |   |--- feature_14 <= 10.36\n",
      "|   |   |   |   |   |   |--- feature_27 <= -0.08\n",
      "|   |   |   |   |   |   |   |--- feature_29 <= 5.15\n",
      "|   |   |   |   |   |   |   |   |--- class: 1\n",
      "|   |   |   |   |   |   |   |--- feature_29 >  5.15\n",
      "|   |   |   |   |   |   |   |   |--- class: 2\n",
      "|   |   |   |   |   |   |--- feature_27 >  -0.08\n",
      "|   |   |   |   |   |   |   |--- class: 1\n",
      "|   |   |   |   |   |--- feature_14 >  10.36\n",
      "|   |   |   |   |   |   |--- feature_30 <= 0.90\n",
      "|   |   |   |   |   |   |   |--- class: 1\n",
      "|   |   |   |   |   |   |--- feature_30 >  0.90\n",
      "|   |   |   |   |   |   |   |--- class: 2\n",
      "|   |   |   |   |--- feature_13 >  1.84\n",
      "|   |   |   |   |   |--- class: 2\n",
      "|   |   |   |--- feature_14 >  10.66\n",
      "|   |   |   |   |--- class: 1\n",
      "|   |--- feature_33 >  2.50\n",
      "|   |   |--- feature_29 <= 5.11\n",
      "|   |   |   |--- feature_12 <= 3.31\n",
      "|   |   |   |   |--- class: 1\n",
      "|   |   |   |--- feature_12 >  3.31\n",
      "|   |   |   |   |--- feature_38 <= 8.10\n",
      "|   |   |   |   |   |--- class: 2\n",
      "|   |   |   |   |--- feature_38 >  8.10\n",
      "|   |   |   |   |   |--- class: 1\n",
      "|   |   |--- feature_29 >  5.11\n",
      "|   |   |   |--- feature_1 <= 2.78\n",
      "|   |   |   |   |--- class: 2\n",
      "|   |   |   |--- feature_1 >  2.78\n",
      "|   |   |   |   |--- feature_1 <= 3.47\n",
      "|   |   |   |   |   |--- feature_29 <= 10.81\n",
      "|   |   |   |   |   |   |--- feature_6 <= 1.50\n",
      "|   |   |   |   |   |   |   |--- class: 2\n",
      "|   |   |   |   |   |   |--- feature_6 >  1.50\n",
      "|   |   |   |   |   |   |   |--- class: 1\n",
      "|   |   |   |   |   |--- feature_29 >  10.81\n",
      "|   |   |   |   |   |   |--- class: 1\n",
      "|   |   |   |   |--- feature_1 >  3.47\n",
      "|   |   |   |   |   |--- feature_27 <= 0.00\n",
      "|   |   |   |   |   |   |--- class: 2\n",
      "|   |   |   |   |   |--- feature_27 >  0.00\n",
      "|   |   |   |   |   |   |--- class: 1\n",
      "|--- feature_35 >  3.68\n",
      "|   |--- feature_11 <= -0.66\n",
      "|   |   |--- feature_38 <= 9.04\n",
      "|   |   |   |--- feature_0 <= 5.18\n",
      "|   |   |   |   |--- feature_4 <= 1.50\n",
      "|   |   |   |   |   |--- feature_21 <= 1.25\n",
      "|   |   |   |   |   |   |--- feature_35 <= 3.70\n",
      "|   |   |   |   |   |   |   |--- class: 1\n",
      "|   |   |   |   |   |   |--- feature_35 >  3.70\n",
      "|   |   |   |   |   |   |   |--- feature_15 <= 6.50\n",
      "|   |   |   |   |   |   |   |   |--- feature_30 <= 1.85\n",
      "|   |   |   |   |   |   |   |   |   |--- class: 2\n",
      "|   |   |   |   |   |   |   |   |--- feature_30 >  1.85\n",
      "|   |   |   |   |   |   |   |   |   |--- feature_21 <= 1.18\n",
      "|   |   |   |   |   |   |   |   |   |   |--- class: 2\n",
      "|   |   |   |   |   |   |   |   |   |--- feature_21 >  1.18\n",
      "|   |   |   |   |   |   |   |   |   |   |--- feature_36 <= 2.75\n",
      "|   |   |   |   |   |   |   |   |   |   |   |--- class: 2\n",
      "|   |   |   |   |   |   |   |   |   |   |--- feature_36 >  2.75\n",
      "|   |   |   |   |   |   |   |   |   |   |   |--- class: 1\n",
      "|   |   |   |   |   |   |   |--- feature_15 >  6.50\n",
      "|   |   |   |   |   |   |   |   |--- class: 2\n",
      "|   |   |   |   |   |--- feature_21 >  1.25\n",
      "|   |   |   |   |   |   |--- feature_13 <= 1.06\n",
      "|   |   |   |   |   |   |   |--- class: 2\n",
      "|   |   |   |   |   |   |--- feature_13 >  1.06\n",
      "|   |   |   |   |   |   |   |--- class: 1\n",
      "|   |   |   |   |--- feature_4 >  1.50\n",
      "|   |   |   |   |   |--- class: 1\n",
      "|   |   |   |--- feature_0 >  5.18\n",
      "|   |   |   |   |--- class: 1\n",
      "|   |   |--- feature_38 >  9.04\n",
      "|   |   |   |--- feature_7 <= 24.90\n",
      "|   |   |   |   |--- class: 2\n",
      "|   |   |   |--- feature_7 >  24.90\n",
      "|   |   |   |   |--- class: 1\n",
      "|   |--- feature_11 >  -0.66\n",
      "|   |   |--- feature_10 <= 2.50\n",
      "|   |   |   |--- feature_2 <= 1.50\n",
      "|   |   |   |   |--- feature_39 <= 0.50\n",
      "|   |   |   |   |   |--- feature_6 <= 3.50\n",
      "|   |   |   |   |   |   |--- feature_9 <= 2.50\n",
      "|   |   |   |   |   |   |   |--- feature_1 <= 3.25\n",
      "|   |   |   |   |   |   |   |   |--- feature_26 <= 2.55\n",
      "|   |   |   |   |   |   |   |   |   |--- feature_7 <= 48.70\n",
      "|   |   |   |   |   |   |   |   |   |   |--- feature_0 <= 4.90\n",
      "|   |   |   |   |   |   |   |   |   |   |   |--- truncated branch of depth 6\n",
      "|   |   |   |   |   |   |   |   |   |   |--- feature_0 >  4.90\n",
      "|   |   |   |   |   |   |   |   |   |   |   |--- class: 1\n",
      "|   |   |   |   |   |   |   |   |   |--- feature_7 >  48.70\n",
      "|   |   |   |   |   |   |   |   |   |   |--- feature_34 <= 0.50\n",
      "|   |   |   |   |   |   |   |   |   |   |   |--- truncated branch of depth 3\n",
      "|   |   |   |   |   |   |   |   |   |   |--- feature_34 >  0.50\n",
      "|   |   |   |   |   |   |   |   |   |   |   |--- class: 2\n",
      "|   |   |   |   |   |   |   |   |--- feature_26 >  2.55\n",
      "|   |   |   |   |   |   |   |   |   |--- class: 2\n",
      "|   |   |   |   |   |   |   |--- feature_1 >  3.25\n",
      "|   |   |   |   |   |   |   |   |--- class: 1\n",
      "|   |   |   |   |   |   |--- feature_9 >  2.50\n",
      "|   |   |   |   |   |   |   |--- feature_17 <= 1.12\n",
      "|   |   |   |   |   |   |   |   |--- feature_26 <= 2.48\n",
      "|   |   |   |   |   |   |   |   |   |--- class: 2\n",
      "|   |   |   |   |   |   |   |   |--- feature_26 >  2.48\n",
      "|   |   |   |   |   |   |   |   |   |--- class: 1\n",
      "|   |   |   |   |   |   |   |--- feature_17 >  1.12\n",
      "|   |   |   |   |   |   |   |   |--- feature_29 <= 10.56\n",
      "|   |   |   |   |   |   |   |   |   |--- feature_29 <= 10.13\n",
      "|   |   |   |   |   |   |   |   |   |   |--- feature_38 <= 9.28\n",
      "|   |   |   |   |   |   |   |   |   |   |   |--- class: 1\n",
      "|   |   |   |   |   |   |   |   |   |   |--- feature_38 >  9.28\n",
      "|   |   |   |   |   |   |   |   |   |   |   |--- class: 2\n",
      "|   |   |   |   |   |   |   |   |   |--- feature_29 >  10.13\n",
      "|   |   |   |   |   |   |   |   |   |   |--- class: 2\n",
      "|   |   |   |   |   |   |   |   |--- feature_29 >  10.56\n",
      "|   |   |   |   |   |   |   |   |   |--- feature_15 <= 5.00\n",
      "|   |   |   |   |   |   |   |   |   |   |--- class: 2\n",
      "|   |   |   |   |   |   |   |   |   |--- feature_15 >  5.00\n",
      "|   |   |   |   |   |   |   |   |   |   |--- class: 1\n",
      "|   |   |   |   |   |--- feature_6 >  3.50\n",
      "|   |   |   |   |   |   |--- feature_30 <= 1.28\n",
      "|   |   |   |   |   |   |   |--- feature_15 <= 6.00\n",
      "|   |   |   |   |   |   |   |   |--- class: 1\n",
      "|   |   |   |   |   |   |   |--- feature_15 >  6.00\n",
      "|   |   |   |   |   |   |   |   |--- class: 2\n",
      "|   |   |   |   |   |   |--- feature_30 >  1.28\n",
      "|   |   |   |   |   |   |   |--- class: 1\n",
      "|   |   |   |   |--- feature_39 >  0.50\n",
      "|   |   |   |   |   |--- class: 2\n",
      "|   |   |   |--- feature_2 >  1.50\n",
      "|   |   |   |   |--- feature_35 <= 4.11\n",
      "|   |   |   |   |   |--- feature_35 <= 4.10\n",
      "|   |   |   |   |   |   |--- feature_13 <= 1.19\n",
      "|   |   |   |   |   |   |   |--- class: 1\n",
      "|   |   |   |   |   |   |--- feature_13 >  1.19\n",
      "|   |   |   |   |   |   |   |--- feature_21 <= 1.32\n",
      "|   |   |   |   |   |   |   |   |--- class: 1\n",
      "|   |   |   |   |   |   |   |--- feature_21 >  1.32\n",
      "|   |   |   |   |   |   |   |   |--- feature_21 <= 1.34\n",
      "|   |   |   |   |   |   |   |   |   |--- class: 2\n",
      "|   |   |   |   |   |   |   |   |--- feature_21 >  1.34\n",
      "|   |   |   |   |   |   |   |   |   |--- class: 1\n",
      "|   |   |   |   |   |--- feature_35 >  4.10\n",
      "|   |   |   |   |   |   |--- feature_30 <= 1.27\n",
      "|   |   |   |   |   |   |   |--- class: 2\n",
      "|   |   |   |   |   |   |--- feature_30 >  1.27\n",
      "|   |   |   |   |   |   |   |--- class: 1\n",
      "|   |   |   |   |--- feature_35 >  4.11\n",
      "|   |   |   |   |   |--- class: 1\n",
      "|   |   |--- feature_10 >  2.50\n",
      "|   |   |   |--- class: 1\n",
      "\n"
     ]
    }
   ],
   "source": [
    "mytree.fit(mol_data.data,mol_data.target)\n",
    "print(tree.export_text(mytree))"
   ]
  },
  {
   "attachments": {},
   "cell_type": "markdown",
   "metadata": {},
   "source": [
    "# making Predictions  "
   ]
  },
  {
   "cell_type": "code",
   "execution_count": 77,
   "metadata": {},
   "outputs": [
    {
     "name": "stdout",
     "output_type": "stream",
     "text": [
      "['2' '2' '2' ... '1' '1' '1']\n",
      "1.0\n",
      "1.0\n"
     ]
    }
   ],
   "source": [
    "predictions = mytree.predict(mol_data.data)\n",
    "pp = mytree.predict_proba(mol_data.data)\n",
    "print(predictions)\n"
   ]
  },
  {
   "attachments": {},
   "cell_type": "markdown",
   "metadata": {},
   "source": [
    "# Predictions"
   ]
  },
  {
   "cell_type": "code",
   "execution_count": 88,
   "metadata": {},
   "outputs": [
    {
     "data": {
      "text/plain": [
       "1.0"
      ]
     },
     "execution_count": 88,
     "metadata": {},
     "output_type": "execute_result"
    }
   ],
   "source": [
    "metrics.accuracy_score(mol_data.target,predictions)\n",
    "metrics.f1_score(mol_data.target, predictions,pos_label=\"1\")\n",
    "metrics.precision_score(mol_data.target, predictions, pos_label=\"1\")\n",
    "metrics.recall_score(mol_data.target, predictions, pos_label=\"1\")\n",
    "\n"
   ]
  },
  {
   "cell_type": "code",
   "execution_count": 78,
   "metadata": {},
   "outputs": [
    {
     "name": "stdout",
     "output_type": "stream",
     "text": [
      "1.0\n",
      "1.0\n"
     ]
    }
   ],
   "source": [
    "print(metrics.roc_auc_score(mol_data.target,pp[:,1]))\n",
    "print(metrics.accuracy_score(mol_data.target,predictions))"
   ]
  },
  {
   "cell_type": "code",
   "execution_count": 91,
   "metadata": {},
   "outputs": [
    {
     "name": "stdout",
     "output_type": "stream",
     "text": [
      "1.0 1.0\n",
      "1.0 1.0\n",
      "[0.86792453 0.80188679 0.74528302 0.89622642 0.79245283 0.76190476\n",
      " 0.71428571 0.78095238 0.8        0.75238095] [0.86792453 0.80188679 0.74528302 0.89622642 0.79245283 0.76190476\n",
      " 0.71428571 0.78095238 0.8        0.75238095]\n"
     ]
    }
   ],
   "source": [
    "dtc2 = tree.DecisionTreeClassifier()\n",
    "cv2 = model_selection.cross_validate(dtc2,mol_data.data,mol_data.target,scoring=[\"accuracy\",\"roc_auc\"],cv=10,return_train_score=True)\n",
    "accuracy_mean2 = cv2[\"train_accuracy\"].mean()\n",
    "test_roc_auc_mean2 = cv2[\"train_roc_auc\"].mean()\n",
    "print(test_roc_auc_mean2,accuracy_mean2)\n",
    "print(accuracy_mean2,test_roc_auc_mean2)\n",
    "print(cv2[\"test_accuracy\"],cv2[\"test_accuracy\"])\n"
   ]
  },
  {
   "cell_type": "code",
   "execution_count": 90,
   "metadata": {},
   "outputs": [
    {
     "name": "stdout",
     "output_type": "stream",
     "text": [
      "0.7894249775381851 0.7709178743961352\n",
      "[0.85849057 0.82075472 0.74528302 0.88679245 0.79245283 0.75238095\n",
      " 0.6952381  0.75238095 0.80952381 0.78095238] [0.85849057 0.82075472 0.74528302 0.88679245 0.79245283 0.75238095\n",
      " 0.6952381  0.75238095 0.80952381 0.78095238]\n"
     ]
    }
   ],
   "source": [
    "dtc = tree.DecisionTreeClassifier()\n",
    "cv = model_selection.cross_validate(dtc,mol_data.data,mol_data.target,scoring=[\"accuracy\",\"roc_auc\"],cv=10)\n",
    "accuracy_mean = cv[\"test_accuracy\"].mean()\n",
    "test_roc_auc_mean = cv[\"test_roc_auc\"].mean()\n",
    "print(accuracy_mean,test_roc_auc_mean)\n",
    "print(cv[\"test_accuracy\"],cv[\"test_accuracy\"])\n"
   ]
  },
  {
   "cell_type": "code",
   "execution_count": null,
   "metadata": {},
   "outputs": [],
   "source": []
  },
  {
   "cell_type": "code",
   "execution_count": null,
   "metadata": {},
   "outputs": [],
   "source": []
  }
 ],
 "metadata": {
  "kernelspec": {
   "display_name": "Python 3",
   "language": "python",
   "name": "python3"
  },
  "language_info": {
   "codemirror_mode": {
    "name": "ipython",
    "version": 3
   },
   "file_extension": ".py",
   "mimetype": "text/x-python",
   "name": "python",
   "nbconvert_exporter": "python",
   "pygments_lexer": "ipython3",
   "version": "3.9.13"
  },
  "orig_nbformat": 4,
  "vscode": {
   "interpreter": {
    "hash": "38cca0c38332a56087b24af0bc80247f4fced29cb4f7f437d91dc159adec9c4e"
   }
  }
 },
 "nbformat": 4,
 "nbformat_minor": 2
}
